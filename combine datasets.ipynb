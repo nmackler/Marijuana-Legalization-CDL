{
 "cells": [
  {
   "cell_type": "code",
   "execution_count": 9,
   "metadata": {},
   "outputs": [],
   "source": [
    "import pandas as pd\n",
    "import numpy as np"
   ]
  },
  {
   "cell_type": "code",
   "execution_count": 10,
   "metadata": {},
   "outputs": [],
   "source": [
    "wages = pd.read_csv(\"wage data\")\n",
    "marijuana = pd.read_csv(\"marijuana years df\")\n",
    "marijuana = marijuana.iloc[0:51]\n",
    "marijuana = marijuana.set_index([\"State\"])\n",
    "marijuana = marijuana[[\"Year legalized (Rec)\", \"Year legalized (Med)\"]]\n",
    "marijuana = marijuana.rename(columns={\"Year legalized (Rec)\" : \"rec\", \"Year legalized (Med)\" : \"med\"})\n",
    "marijuana.index.names = [\"state\"]\n",
    "\n"
   ]
  },
  {
   "cell_type": "code",
   "execution_count": 11,
   "metadata": {},
   "outputs": [],
   "source": [
    "# Create a list of all possible state-year combinations from 2001 to 2022\n",
    "state_list = marijuana.index.unique()\n",
    "year_range = list(map(str, range(2001, 2023)))  # Convert years to strings\n",
    "index = pd.MultiIndex.from_product([state_list, year_range], names=[\"State\", \"Year\"])\n",
    "\n",
    "# Create an empty DataFrame with the multi-index\n",
    "pivoted_df = pd.DataFrame(index=index)\n",
    "\n"
   ]
  },
  {
   "cell_type": "code",
   "execution_count": 12,
   "metadata": {},
   "outputs": [],
   "source": [
    "pivoted_df.insert(loc=0,column=\"rec_legal\",value=np.nan)\n",
    "pivoted_df.insert(loc=1,column=\"med_legal\",value=np.nan)"
   ]
  },
  {
   "cell_type": "code",
   "execution_count": 13,
   "metadata": {},
   "outputs": [],
   "source": [
    "#would be more efficient to this the other way around, but I realzied that after starting and on a 10^4 dataset running once I can't be bothered to rewrite\n",
    "for state, year in pivoted_df.index:\n",
    "    for manner in [\"rec\", \"med\"]:\n",
    "        value = marijuana[manner].loc[state]\n",
    "        if isinstance(value, (float, int)) and not pd.isnull(value) and value <= int(year):\n",
    "            pivoted_df.loc[(state, year), f\"{manner}_legal\"] = True\n",
    "        else: \n",
    "            pivoted_df.loc[(state, year), f\"{manner}_legal\"] = False\n"
   ]
  },
  {
   "cell_type": "code",
   "execution_count": 16,
   "metadata": {},
   "outputs": [
    {
     "data": {
      "text/plain": [
       "FrozenList(['State', 'Year'])"
      ]
     },
     "execution_count": 16,
     "metadata": {},
     "output_type": "execute_result"
    }
   ],
   "source": []
  },
  {
   "cell_type": "code",
   "execution_count": 15,
   "metadata": {},
   "outputs": [
    {
     "data": {
      "text/html": [
       "<div>\n",
       "<style scoped>\n",
       "    .dataframe tbody tr th:only-of-type {\n",
       "        vertical-align: middle;\n",
       "    }\n",
       "\n",
       "    .dataframe tbody tr th {\n",
       "        vertical-align: top;\n",
       "    }\n",
       "\n",
       "    .dataframe thead th {\n",
       "        text-align: right;\n",
       "    }\n",
       "</style>\n",
       "<table border=\"1\" class=\"dataframe\">\n",
       "  <thead>\n",
       "    <tr style=\"text-align: right;\">\n",
       "      <th></th>\n",
       "      <th>Unnamed: 0</th>\n",
       "      <th>state</th>\n",
       "      <th>year</th>\n",
       "      <th>all_occ_h_median</th>\n",
       "      <th>drivers_h_median</th>\n",
       "    </tr>\n",
       "  </thead>\n",
       "  <tbody>\n",
       "    <tr>\n",
       "      <th>0</th>\n",
       "      <td>0</td>\n",
       "      <td>Alabama</td>\n",
       "      <td>2001</td>\n",
       "      <td>11.02</td>\n",
       "      <td>12.01</td>\n",
       "    </tr>\n",
       "    <tr>\n",
       "      <th>1</th>\n",
       "      <td>1</td>\n",
       "      <td>Alaska</td>\n",
       "      <td>2001</td>\n",
       "      <td>16.12</td>\n",
       "      <td>16.30</td>\n",
       "    </tr>\n",
       "    <tr>\n",
       "      <th>2</th>\n",
       "      <td>2</td>\n",
       "      <td>Arizona</td>\n",
       "      <td>2001</td>\n",
       "      <td>12.33</td>\n",
       "      <td>12.84</td>\n",
       "    </tr>\n",
       "    <tr>\n",
       "      <th>3</th>\n",
       "      <td>3</td>\n",
       "      <td>Arkansas</td>\n",
       "      <td>2001</td>\n",
       "      <td>10.47</td>\n",
       "      <td>12.28</td>\n",
       "    </tr>\n",
       "    <tr>\n",
       "      <th>4</th>\n",
       "      <td>4</td>\n",
       "      <td>California</td>\n",
       "      <td>2001</td>\n",
       "      <td>14.31</td>\n",
       "      <td>14.01</td>\n",
       "    </tr>\n",
       "    <tr>\n",
       "      <th>...</th>\n",
       "      <td>...</td>\n",
       "      <td>...</td>\n",
       "      <td>...</td>\n",
       "      <td>...</td>\n",
       "      <td>...</td>\n",
       "    </tr>\n",
       "    <tr>\n",
       "      <th>1117</th>\n",
       "      <td>1117</td>\n",
       "      <td>Virginia</td>\n",
       "      <td>2022</td>\n",
       "      <td>23.22</td>\n",
       "      <td>20.72</td>\n",
       "    </tr>\n",
       "    <tr>\n",
       "      <th>1118</th>\n",
       "      <td>1118</td>\n",
       "      <td>Washington</td>\n",
       "      <td>2022</td>\n",
       "      <td>27.08</td>\n",
       "      <td>25.81</td>\n",
       "    </tr>\n",
       "    <tr>\n",
       "      <th>1119</th>\n",
       "      <td>1119</td>\n",
       "      <td>West Virginia</td>\n",
       "      <td>2022</td>\n",
       "      <td>18.16</td>\n",
       "      <td>18.85</td>\n",
       "    </tr>\n",
       "    <tr>\n",
       "      <th>1120</th>\n",
       "      <td>1120</td>\n",
       "      <td>Wisconsin</td>\n",
       "      <td>2022</td>\n",
       "      <td>21.95</td>\n",
       "      <td>21.90</td>\n",
       "    </tr>\n",
       "    <tr>\n",
       "      <th>1121</th>\n",
       "      <td>1121</td>\n",
       "      <td>Wyoming</td>\n",
       "      <td>2022</td>\n",
       "      <td>21.85</td>\n",
       "      <td>21.42</td>\n",
       "    </tr>\n",
       "  </tbody>\n",
       "</table>\n",
       "<p>1122 rows × 5 columns</p>\n",
       "</div>"
      ],
      "text/plain": [
       "      Unnamed: 0          state  year  all_occ_h_median  drivers_h_median\n",
       "0              0        Alabama  2001             11.02             12.01\n",
       "1              1         Alaska  2001             16.12             16.30\n",
       "2              2        Arizona  2001             12.33             12.84\n",
       "3              3       Arkansas  2001             10.47             12.28\n",
       "4              4     California  2001             14.31             14.01\n",
       "...          ...            ...   ...               ...               ...\n",
       "1117        1117       Virginia  2022             23.22             20.72\n",
       "1118        1118     Washington  2022             27.08             25.81\n",
       "1119        1119  West Virginia  2022             18.16             18.85\n",
       "1120        1120      Wisconsin  2022             21.95             21.90\n",
       "1121        1121        Wyoming  2022             21.85             21.42\n",
       "\n",
       "[1122 rows x 5 columns]"
      ]
     },
     "execution_count": 15,
     "metadata": {},
     "output_type": "execute_result"
    }
   ],
   "source": [
    "wages"
   ]
  },
  {
   "cell_type": "code",
   "execution_count": 17,
   "metadata": {},
   "outputs": [],
   "source": [
    "wages_reset = wages.reset_index()\n",
    "pivoted_df_reset = pivoted_df.reset_index()\n",
    "wages_reset = wages_reset.sort_values(by=([\"year\", \"state\"]), ignore_index=True)\n",
    "pivoted_df_reset = pivoted_df_reset.rename(columns = {\"Year\" : \"year\", \"State\" : \"state\"})\n",
    "pivoted_df_reset = pivoted_df_reset.sort_values(by=([\"year\", \"state\"]), ignore_index=True)"
   ]
  },
  {
   "cell_type": "code",
   "execution_count": 21,
   "metadata": {},
   "outputs": [],
   "source": [
    "out_df = pd.concat(objs=[wages_reset, pivoted_df_reset], axis=1)\n",
    "out_df = out_df.loc[:, ~out_df.columns.duplicated()]\n",
    "out_df = out_df[[\"state\", \"year\", \"all_occ_h_median\", \"drivers_h_median\", \"rec_legal\", \"med_legal\"]]"
   ]
  },
  {
   "cell_type": "code",
   "execution_count": 23,
   "metadata": {},
   "outputs": [],
   "source": [
    "out_df.to_csv(\"data\")"
   ]
  },
  {
   "cell_type": "code",
   "execution_count": null,
   "metadata": {},
   "outputs": [],
   "source": []
  }
 ],
 "metadata": {
  "kernelspec": {
   "display_name": "base",
   "language": "python",
   "name": "python3"
  },
  "language_info": {
   "codemirror_mode": {
    "name": "ipython",
    "version": 3
   },
   "file_extension": ".py",
   "mimetype": "text/x-python",
   "name": "python",
   "nbconvert_exporter": "python",
   "pygments_lexer": "ipython3",
   "version": "3.9.12"
  },
  "orig_nbformat": 4
 },
 "nbformat": 4,
 "nbformat_minor": 2
}

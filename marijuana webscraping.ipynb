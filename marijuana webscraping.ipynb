{
 "cells": [
  {
   "cell_type": "code",
   "execution_count": 10,
   "metadata": {},
   "outputs": [],
   "source": [
    "from bs4 import BeautifulSoup\n",
    "import pandas as pd\n",
    "\n",
    "\n",
    "with open('marijuana table.txt', 'r', encoding='utf-8') as file:\n",
    "    html = file.read()\n",
    "\n",
    "\n",
    "soup = BeautifulSoup(html, 'html.parser')\n",
    "\n",
    "# Find all rows in the <tbody> section\n",
    "rows = soup.find_all('tr')\n",
    "\n",
    "data = []\n",
    "columns = []\n",
    "\n",
    "# Extract headers (column names) from the first row\n",
    "header_row = rows[0]\n",
    "header_cells = header_row.find_all(['th', 'td'])\n",
    "for cell in header_cells:\n",
    "    columns.append(cell.get_text(strip=True))\n",
    "\n",
    "# Extract data from the remaining rows\n",
    "for row in rows[1:]:\n",
    "    cells = row.find_all(['th', 'td'])\n",
    "    row_data = [cell.get_text(strip=True) for cell in cells]\n",
    "    data.append(row_data)\n",
    "\n",
    "# Create a pandas DataFrame\n",
    "df = pd.DataFrame(data, columns=columns)\n",
    "\n",
    "df.to_csv(\"marijuana years df\")\n"
   ]
  },
  {
   "cell_type": "code",
   "execution_count": null,
   "metadata": {},
   "outputs": [],
   "source": []
  }
 ],
 "metadata": {
  "kernelspec": {
   "display_name": "base",
   "language": "python",
   "name": "python3"
  },
  "language_info": {
   "codemirror_mode": {
    "name": "ipython",
    "version": 3
   },
   "file_extension": ".py",
   "mimetype": "text/x-python",
   "name": "python",
   "nbconvert_exporter": "python",
   "pygments_lexer": "ipython3",
   "version": "3.9.12"
  },
  "orig_nbformat": 4
 },
 "nbformat": 4,
 "nbformat_minor": 2
}
